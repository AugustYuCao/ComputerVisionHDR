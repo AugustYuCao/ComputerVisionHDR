{
 "cells": [
  {
   "cell_type": "code",
   "execution_count": null,
   "metadata": {},
   "outputs": [],
   "source": [
    "#image3\n",
    "image3 = cv2.imread('set/SAM_4060.jpeg', cv2.IMREAD_COLOR)\n",
    "b3, g3, r3 = cv2.split(image3)\n",
    "bf3 = b3.flatten()\n",
    "gf3 = g3.flatten()\n",
    "rf3 = r3.flatten()\n",
    "bf3G = b3.flatten() ** (1 / aB)\n",
    "gf3G = g3.flatten() ** (1 / aG)\n",
    "rf3G = r3.flatten() ** (1 / aR)\n",
    "brightnessB3 = sum(bf3) / len(bf3) ** (1 / aB)\n",
    "brightnessG3 = sum(gf3) / len(gf3) ** (1 / aG)\n",
    "brightnessR3 = sum(rf3) / len(rf3) ** (1 / aR)\n",
    "print(int(brightnessB3), int(brightnessG3), int(brightnessR3))\n",
    "hist(bf3G, 25, facecolor = 'blue')\n",
    "plt.show()\n",
    "hist(gf3G, 25, facecolor = 'green')\n",
    "plt.show()\n",
    "hist(rf3G, 25, facecolor = 'red')\n",
    "plt.show()"
   ]
  }
 ],
 "metadata": {
  "kernelspec": {
   "display_name": "Python 3",
   "language": "python",
   "name": "python3"
  },
  "language_info": {
   "codemirror_mode": {
    "name": "ipython",
    "version": 3
   },
   "file_extension": ".py",
   "mimetype": "text/x-python",
   "name": "python",
   "nbconvert_exporter": "python",
   "pygments_lexer": "ipython3",
   "version": "3.7.0"
  }
 },
 "nbformat": 4,
 "nbformat_minor": 2
}
